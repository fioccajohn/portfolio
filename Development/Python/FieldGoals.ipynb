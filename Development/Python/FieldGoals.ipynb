{
 "cells": [
  {
   "cell_type": "markdown",
   "id": "27606db1-dbe2-4af2-a0bb-859bae92a07e",
   "metadata": {},
   "source": [
    "# Field Goals 🏈"
   ]
  },
  {
   "cell_type": "markdown",
   "id": "50c95911-7f1c-4393-bbc0-e49dbf785cbc",
   "metadata": {},
   "source": [
    "Conversation with Kristopher."
   ]
  }
 ],
 "metadata": {
  "kernelspec": {
   "display_name": "Python 3 (ipykernel)",
   "language": "python",
   "name": "python3"
  },
  "language_info": {
   "codemirror_mode": {
    "name": "ipython",
    "version": 3
   },
   "file_extension": ".py",
   "mimetype": "text/x-python",
   "name": "python",
   "nbconvert_exporter": "python",
   "pygments_lexer": "ipython3",
   "version": "3.12.7"
  }
 },
 "nbformat": 4,
 "nbformat_minor": 5
}
