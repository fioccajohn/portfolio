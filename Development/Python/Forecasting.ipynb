{
 "cells": [
  {
   "cell_type": "markdown",
   "id": "b103b170-87bd-4d61-af4f-dd0c933fb562",
   "metadata": {},
   "source": [
    "# Forecasting with Prophet"
   ]
  },
  {
   "cell_type": "code",
   "execution_count": null,
   "id": "06e9183c-683d-4d1d-add1-7438c9b64a71",
   "metadata": {},
   "outputs": [],
   "source": [
    "import pandas as pd\n",
    "from prophet import Prophet"
   ]
  },
  {
   "cell_type": "markdown",
   "id": "37bd7a22-1dc5-47e2-9ed5-e8c5a44ab424",
   "metadata": {},
   "source": [
    "Quick Start\n",
    "Saturating Forecasts\n",
    "Trend Changepoints\n",
    "Seasonality, Holiday Effects, And Regressors\n",
    "Multiplicative Seasonality\n",
    "Uncertainty Intervals\n",
    "Outliers\n",
    "Non-Daily Data\n",
    "Diagnostics\n",
    "Handling Shocks\n",
    "Additional Regressors"
   ]
  }
 ],
 "metadata": {
  "kernelspec": {
   "display_name": "Python 3 (ipykernel)",
   "language": "python",
   "name": "python3"
  },
  "language_info": {
   "codemirror_mode": {
    "name": "ipython",
    "version": 3
   },
   "file_extension": ".py",
   "mimetype": "text/x-python",
   "name": "python",
   "nbconvert_exporter": "python",
   "pygments_lexer": "ipython3",
   "version": "3.12.6"
  }
 },
 "nbformat": 4,
 "nbformat_minor": 5
}
