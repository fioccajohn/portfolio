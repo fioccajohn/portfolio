{
 "cells": [
  {
   "cell_type": "markdown",
   "id": "2a49a6be-1e09-4253-8c6c-cc8698e26b99",
   "metadata": {},
   "source": [
    "# T-Mobile Donation Promotion\n",
    "\n",
    "John Fiocca"
   ]
  },
  {
   "cell_type": "markdown",
   "id": "e090f7f7-150b-47bd-bd6b-79f41366e9d4",
   "metadata": {},
   "source": [
    "## Summary\n",
    "- I create a class-based simulator to generate hypothetical World Series data and discover the assumptions behind an advertized T-Mobile promotion.\n",
    "- The 100,000 hypothetical World Series are explored visually and statistically.\n",
    "\n",
    "### Results\n",
    "- Our simulated data would have led us to correctly guess the number of home runs hit.\n",
    "    - $E(HomeRuns): 15.9$ with an actual total of 16.\n"
   ]
  },
  {
   "cell_type": "markdown",
   "id": "756bedab-063d-422d-ade6-a359f5b1a576",
   "metadata": {},
   "source": [
    "## Overview\n",
    "\n",
    "1. T-Mobile is running a promotion that they will donate $25K to hurricane relief for every home run hit in the World Series.\n",
    "2. They'll also donate an additional $10 for every \"RALLY\" text they receive.\n",
    "3. The cap for the total donation is $1 Million.\n",
    "4. Let's generate some data with a simulation to see what they should expect to donate.\n",
    "\n",
    "The promotion press release can be found [here](https://www.t-mobile.com/news/community/t-mobile-rallies-for-hurricane-relief-pledging-up-to-1-million-for-ongoing-recovery-efforts).\n",
    "Baseball Data Source: https://www.statmuse.com"
   ]
  },
  {
   "cell_type": "markdown",
   "id": "a14588fc-193f-4e21-a77a-0a24dc07cc3a",
   "metadata": {},
   "source": [
    "## Data Simulation\n",
    "\n",
    "By the way, simulators can be simple or complex. This one will be complex to show how one would design a class-based simulator to save intermediary data."
   ]
  },
  {
   "cell_type": "markdown",
   "id": "6d345ee8-9035-42d2-a6e1-62de4bb5f028",
   "metadata": {},
   "source": [
    "### Imports and Constants"
   ]
  },
  {
   "cell_type": "code",
   "execution_count": 4,
   "id": "d84ef12b-85ca-4c9b-8ef2-d956888eb242",
   "metadata": {},
   "outputs": [],
   "source": [
    "import matplotlib.pyplot as plt\n",
    "import numpy as np\n",
    "import pandas as pd\n",
    "from scipy import stats\n",
    "import seaborn as sns\n",
    "\n",
    "sns.set_theme()\n",
    "np.random.seed(23456781)\n",
    "%matplotlib inline"
   ]
  },
  {
   "cell_type": "code",
   "execution_count": 121,
   "id": "7c2a8f4e-1a0e-43e9-99d6-f1af81f6d091",
   "metadata": {},
   "outputs": [],
   "source": [
    "# Simulation Constants\n",
    "\n",
    "TEAM_A_NAME = \"Yankees\"\n",
    "TEAM_A_WINS = 94\n",
    "TEAM_A_LOSSES = 68\n",
    "TEAM_A_HOME_RUNS_THIS_SEASON = 237\n",
    "\n",
    "TEAM_B_NAME = \"Dodgers\"\n",
    "TEAM_B_WINS = 98\n",
    "TEAM_B_LOSSES = 64\n",
    "TEAM_B_HOME_RUNS_THIS_SEASON = 233"
   ]
  },
  {
   "cell_type": "markdown",
   "id": "d6bb724f-5524-4a6b-8fbf-b8d230a35d7a",
   "metadata": {},
   "source": [
    "### Simulators\n",
    "\n",
    "We'll define two simulator classes: one for simulating an individual baseball game and another for simulating a series of baseball games."
   ]
  },
  {
   "cell_type": "markdown",
   "id": "be693c01-64f5-4379-8112-0e22c8c50c4f",
   "metadata": {},
   "source": [
    "#### Baseball Game Simulator"
   ]
  },
  {
   "cell_type": "code",
   "execution_count": 6,
   "id": "6390d60d-56f2-41b7-9351-26dbb755f8a8",
   "metadata": {},
   "outputs": [],
   "source": [
    "class BaseballGame:\n",
    "    def __init__(\n",
    "        self,\n",
    "        team_a_name,\n",
    "        team_a_wins,\n",
    "        team_a_losses,\n",
    "        team_a_home_runs_this_season,\n",
    "        team_b_name,\n",
    "        team_b_wins,\n",
    "        team_b_losses,\n",
    "        team_b_home_runs_this_season,\n",
    "    ):\n",
    "        self.team_a_name = team_a_name\n",
    "        self.team_a_wins = team_a_wins\n",
    "        self.team_a_losses = team_a_losses\n",
    "        self.team_a_home_runs_this_season = team_a_home_runs_this_season\n",
    "        self.team_b_name = team_b_name\n",
    "        self.team_b_wins = team_b_wins\n",
    "        self.team_b_losses = team_b_losses\n",
    "        self.team_b_home_runs_this_season = team_b_home_runs_this_season\n",
    "        self._create_win_probability_distributions()\n",
    "\n",
    "    @property\n",
    "    def team_a_record(self):\n",
    "        return (self.team_a_wins, self.team_a_losses)\n",
    "\n",
    "    @property\n",
    "    def team_b_record(self):\n",
    "        return (self.team_b_wins, self.team_b_losses)\n",
    "\n",
    "    @property\n",
    "    def team_a_home_runs_per_game(self):\n",
    "        return self.team_a_home_runs_this_season / sum(self.team_a_record)\n",
    "\n",
    "    @property\n",
    "    def team_b_home_runs_per_game(self):\n",
    "        return self.team_b_home_runs_this_season / sum(self.team_b_record)\n",
    "\n",
    "    @property\n",
    "    def game_home_runs(self):\n",
    "        return sum((self.team_a_home_runs, self.team_b_home_runs))\n",
    "\n",
    "    def simulate_game_home_runs(self):\n",
    "\n",
    "        self.team_a_home_runs = stats.poisson(self.team_a_home_runs_per_game).rvs()\n",
    "        self.team_b_home_runs = stats.poisson(self.team_b_home_runs_per_game).rvs()\n",
    "\n",
    "        return self.game_home_runs\n",
    "\n",
    "    def simulate_game_home_run_total(self):\n",
    "        return sum(\n",
    "            self.simulate_team_home_run_total(\"a\"),\n",
    "            self.simulate_team_home_run_total(\"b\"),\n",
    "        )\n",
    "\n",
    "    def simulate_game_winner(self):\n",
    "        if self.team_a_brv.rvs() > self.team_b_brv.rvs():\n",
    "            return self.team_a_name\n",
    "        else:\n",
    "            return self.team_b_name\n",
    "\n",
    "    def simulate_game(self):\n",
    "        s = pd.Series(\n",
    "            {\n",
    "                \"Winner\": self.simulate_game_winner(),\n",
    "                \"HomeRunTotal\": self.simulate_game_home_runs(),\n",
    "            }\n",
    "        )\n",
    "\n",
    "        return s\n",
    "\n",
    "    def _create_win_probability_distributions(self):\n",
    "\n",
    "        # TODO + 1 to each for smoothing in case 0 result\n",
    "        self.team_a_brv = stats.beta(*(i + 1 for i in self.team_a_record))\n",
    "        self.team_b_brv = stats.beta(*(i + 1 for i in self.team_b_record))"
   ]
  },
  {
   "cell_type": "markdown",
   "id": "32bed54c-a9ca-40eb-8a9e-33c6660e61fb",
   "metadata": {},
   "source": [
    "##### Example Use"
   ]
  },
  {
   "cell_type": "code",
   "execution_count": 7,
   "id": "6c2aff81-a3f8-429d-af32-7804400951c8",
   "metadata": {},
   "outputs": [
    {
     "data": {
      "text/plain": [
       "Winner          Yankees\n",
       "HomeRunTotal          2\n",
       "dtype: object"
      ]
     },
     "execution_count": 7,
     "metadata": {},
     "output_type": "execute_result"
    }
   ],
   "source": [
    "bg = BaseballGame(\n",
    "    TEAM_A_NAME,\n",
    "    TEAM_A_WINS,\n",
    "    TEAM_A_LOSSES,\n",
    "    TEAM_A_HOME_RUNS_THIS_SEASON,\n",
    "    TEAM_B_NAME,\n",
    "    TEAM_B_WINS,\n",
    "    TEAM_B_LOSSES,\n",
    "    TEAM_B_HOME_RUNS_THIS_SEASON,\n",
    ")\n",
    "\n",
    "bg.simulate_game()"
   ]
  },
  {
   "cell_type": "markdown",
   "id": "0c44dd95-7768-4783-bd55-629486adc0f0",
   "metadata": {},
   "source": [
    "#### How I'm simulating the winner\n",
    "\n",
    "For each team, I've created a beta distribution based on their records. I take one sample from both and the team with the higher sample wins the game.\n",
    "\n",
    "This is likely naïve. It should be shown with another statistical test (Chi Square) whether the team with the better record wins the series more often. Rate limiting prevents us from scraping all the records programmatically but the inchoate code can be found at the bottom of this notebook."
   ]
  },
  {
   "cell_type": "code",
   "execution_count": 73,
   "id": "903039d5-34a9-4add-bc7a-2bae5aa813b0",
   "metadata": {},
   "outputs": [
    {
     "data": {
      "text/plain": [
       "<matplotlib.legend.Legend at 0x16d5b4350>"
      ]
     },
     "execution_count": 73,
     "metadata": {},
     "output_type": "execute_result"
    },
    {
     "data": {
      "image/png": "[encoded data removed]",
      "text/plain": [
       "<Figure size 640x480 with 1 Axes>"
      ]
     },
     "metadata": {},
     "output_type": "display_data"
    }
   ],
   "source": [
    "def my_plotter(continuous_distribution, **kwargs):\n",
    "    \"\"\"MPL Helper Function.\"\"\"\n",
    "\n",
    "    x = np.linspace(*continuous_distribution.support(), num=1000)\n",
    "\n",
    "    y = continuous_distribution.pdf(x)\n",
    "    \n",
    "    ax = sns.lineplot(x=x, y=y, **kwargs)\n",
    "    return ax\n",
    "\n",
    "ax = my_plotter(bg.team_a_brv)\n",
    "my_plotter(bg.team_b_brv, ax=ax)\n",
    "\n",
    "title = f\"Beta Distributions of Each Team's Win Probability\\n{TEAM_A_NAME} E(X): {bg.team_a_brv.expect():.3f}, {TEAM_B_NAME} E(X): {bg.team_b_brv.expect():.3f}\"\n",
    "\n",
    "ax.set_title(title)\n",
    "ax.legend(ax.lines, [TEAM_A_NAME, TEAM_B_NAME])"
   ]
  },
  {
   "cell_type": "markdown",
   "id": "50341bb6-2e63-4d49-9387-01135ec4076b",
   "metadata": {
    "jp-MarkdownHeadingCollapsed": true
   },
   "source": [
    "#### How I'm simulating home runs\n",
    "\n",
    "I'm sampling from a poisson distribution for each team with $\\lambda = AVG(HomeRunsPerGame)$. I'm using the regular season home run rate. This assumes no difference between home run rate in the regular season and the postseason. This should be verified with a test to determine whether the distribution of postseason homeruns is not statistically different than that of regular season home runs."
   ]
  },
  {
   "cell_type": "code",
   "execution_count": 71,
   "id": "7f81e7cf-98c6-4a11-ad29-998b6f1aaf9d",
   "metadata": {},
   "outputs": [
    {
     "data": {
      "image/png": "[encoded data removed]",
      "text/plain": [
       "<Figure size 640x480 with 2 Axes>"
      ]
     },
     "metadata": {},
     "output_type": "display_data"
    }
   ],
   "source": [
    "fig, axs = plt.subplots(2)\n",
    "\n",
    "\n",
    "def plot_poisson(poisson_distribution, xmax=10, **kwargs):\n",
    "\n",
    "    x_range = np.arange(0, xmax)\n",
    "    ax = sns.barplot(x=x_range, y=poisson_distribution.pmf(x_range), **kwargs)\n",
    "    return ax\n",
    "\n",
    "team_a_hr_prv = stats.poisson(bg.team_a_home_runs_per_game)\n",
    "team_b_hr_prv = stats.poisson(bg.team_b_home_runs_per_game)\n",
    "\n",
    "plot_poisson(team_a_hr_prv, ax=axs[0])\n",
    "axs[0].set_title(f'{TEAM_A_NAME} E(X): {team_a_hr_prv.expect():.2f}')\n",
    "\n",
    "plot_poisson(team_b_hr_prv, ax=axs[1], color=sns.color_palette()[1])\n",
    "axs[1].set_title(f'{TEAM_B_NAME} E(X): {team_b_hr_prv.expect():.2f}')\n",
    "\n",
    "fig.suptitle(f'Expect an average of {team_a_hr_prv.expect() + team_b_hr_prv.expect():.2f} home runs per game.')\n",
    "fig.tight_layout()"
   ]
  },
  {
   "cell_type": "markdown",
   "id": "40e27011-aaed-4b65-821b-e8674b7904d4",
   "metadata": {},
   "source": [
    "#### Baseball Series Simulator"
   ]
  },
  {
   "cell_type": "code",
   "execution_count": 10,
   "id": "c6c0a534-466a-4729-aa16-c43f7de8c78b",
   "metadata": {},
   "outputs": [],
   "source": [
    "class BaseballSeries:\n",
    "    def __init__(self, game_simulator, n_games=7):\n",
    "        self.game_simulator = game_simulator\n",
    "        self.team_a_name = self.game_simulator.team_a_name\n",
    "        self.team_b_name = self.game_simulator.team_b_name\n",
    "        self.team_a_wins = 0\n",
    "        self.team_b_wins = 0\n",
    "        self.n_games = n_games\n",
    "\n",
    "    @property\n",
    "    def series_games(self):\n",
    "        return pd.DataFrame(self._series_games)\n",
    "\n",
    "    @series_games.setter\n",
    "    def series_games(self, value):\n",
    "        if hasattr(value, \"__iter__\"):\n",
    "            self._series_games = value\n",
    "        else:\n",
    "            raise ValueError(\"Value must be iterable.\")\n",
    "\n",
    "    @series_games.deleter\n",
    "    def series_games(self):\n",
    "        del self._series_games\n",
    "\n",
    "    @property\n",
    "    def series_teams(self):\n",
    "        return self.team_a_name, self.team_b_name\n",
    "\n",
    "    @property\n",
    "    def series_record(self):\n",
    "        return self.team_a_wins, self.team_b_wins\n",
    "\n",
    "\n",
    "    @property\n",
    "    def series_winner(self):\n",
    "        try:\n",
    "            return self._series_winner\n",
    "        except ValueError as err:\n",
    "            print(\"Series winner is not yet determined.\")\n",
    "\n",
    "    @property\n",
    "    def series_home_run_total(self):\n",
    "        return self.series_games[\"HomeRunTotal\"].sum()\n",
    "\n",
    "    @series_winner.setter\n",
    "    def series_winner(self, value):\n",
    "        self._series_winner = value\n",
    "\n",
    "    @series_winner.deleter\n",
    "    def series_winner(self):\n",
    "        del self._series_winner\n",
    "\n",
    "    def team_name_lookup(self, team=\"a\"):\n",
    "        team_name_dict = {\n",
    "            \"a\": self.team_a_name,\n",
    "            \"b\": self.team_b_name,\n",
    "        }\n",
    "\n",
    "        return team_name_dict.get(team)\n",
    "\n",
    "    def check_for_series_winner(self):\n",
    "        for team in [\"a\", \"b\"]:\n",
    "            team_won_series = self._series_win_majority(team)\n",
    "            if team_won_series:\n",
    "                self.series_winner = self.team_name_lookup(team)\n",
    "                return self.series_winner\n",
    "\n",
    "    def simulate_series(self):\n",
    "\n",
    "        self._clear_simulated_values()\n",
    "\n",
    "        games_played = []\n",
    "\n",
    "        self.team_a_wins, self.team_b_wins = 0, 0\n",
    "\n",
    "        while not self.check_for_series_winner():\n",
    "\n",
    "            game = self.game_simulator.simulate_game()\n",
    "\n",
    "            games_played.append(game)\n",
    "\n",
    "            if game[\"Winner\"] == self.team_a_name:\n",
    "                self.team_a_wins += 1\n",
    "            else:\n",
    "                self.team_b_wins += 1\n",
    "\n",
    "        self.series_games = games_played\n",
    "\n",
    "        s = pd.Series(\n",
    "            {\n",
    "                \"Winner\": self.series_winner,\n",
    "                \"SeriesRecord\": self.series_record,\n",
    "                \"SeriesHomeRuns\": self.series_home_run_total,\n",
    "            }\n",
    "        )\n",
    "\n",
    "        return s\n",
    "\n",
    "    def _del_attr_if_exists(self, attr):\n",
    "        if hasattr(self, attr):\n",
    "            delattr(self, attr)\n",
    "\n",
    "    def _clear_simulated_values(self):\n",
    "        attributes = [\n",
    "            'series_winner',\n",
    "            'series_games',\n",
    "            'team_a_wins',\n",
    "            'team_b_wins',\n",
    "        ]\n",
    "\n",
    "        for a in attributes:\n",
    "            self._del_attr_if_exists(a)\n",
    "\n",
    "    def _series_win_majority(self, team=\"a\"):\n",
    "        wins = self.team_a_wins if team == \"a\" else self.team_b_wins\n",
    "        return wins > self.n_games / 2"
   ]
  },
  {
   "cell_type": "code",
   "execution_count": 11,
   "id": "feb60cde-db66-4f01-8a3a-ebf89546285a",
   "metadata": {},
   "outputs": [],
   "source": [
    "bs = BaseballSeries(bg)"
   ]
  },
  {
   "cell_type": "markdown",
   "id": "7c14d3e7-fc7b-43bd-8694-1c9aa78db516",
   "metadata": {},
   "source": [
    "#### Example Usage"
   ]
  },
  {
   "cell_type": "code",
   "execution_count": 12,
   "id": "e0145caa-6661-4d5a-b6a0-bca5afc01ddd",
   "metadata": {},
   "outputs": [
    {
     "data": {
      "text/plain": [
       "Winner            Dodgers\n",
       "SeriesRecord       (2, 4)\n",
       "SeriesHomeRuns         18\n",
       "dtype: object"
      ]
     },
     "execution_count": 12,
     "metadata": {},
     "output_type": "execute_result"
    }
   ],
   "source": [
    "bs.simulate_series()"
   ]
  },
  {
   "cell_type": "markdown",
   "id": "cff52e62-18c3-4c71-bf47-76b2d04bbaa6",
   "metadata": {},
   "source": [
    "### Simulating 100,000 World Series between these two teams."
   ]
  },
  {
   "cell_type": "code",
   "execution_count": null,
   "id": "9e3157ce-8937-4b6b-ae13-0a540cbb332b",
   "metadata": {},
   "outputs": [],
   "source": [
    "from pathlib import Path\n",
    "\n",
    "n_simulations = 100_000\n",
    "data_path = Path('../data/world-series-simulation.csv')\n",
    "\n",
    "if not data_path.exists:    \n",
    "    (\n",
    "        pd.DataFrame(\n",
    "            [bs.simulate_series() for i in range(n_simulations)]\n",
    "        ).to_csv(data_path, index=False)\n",
    "    )"
   ]
  },
  {
   "cell_type": "markdown",
   "id": "fecd347e-ec08-41a1-8490-2a0682c00075",
   "metadata": {},
   "source": [
    "### Loading the data and creating features.\n",
    "\n",
    "We'll use some of these features later. Defining them in one location to declutter later cells."
   ]
  },
  {
   "cell_type": "code",
   "execution_count": 248,
   "id": "920329ef-fdbf-4e5d-a449-cd3bcfe59e52",
   "metadata": {},
   "outputs": [],
   "source": [
    "# Promotion parameters\n",
    "DONATION_PER_HOME_RUN = 25_000\n",
    "DONATION_PER_TEXT = 10\n",
    "DONATION_CEILING = 1_000_000\n",
    "\n",
    "df = (\n",
    "    pd.read_csv(data_path)\n",
    "    .assign(\n",
    "        SeriesRecord=lambda df: df.SeriesRecord.apply(eval),\n",
    "        GamesPlayed=lambda df: df.SeriesRecord.apply(sum),\n",
    "        donation_per_home_run=DONATION_PER_HOME_RUN,\n",
    "        donation_ceiling=DONATION_CEILING,\n",
    "        donation_per_text=DONATION_PER_TEXT,\n",
    "        home_run_donation_total=lambda x: x.SeriesHomeRuns * x.donation_per_home_run,\n",
    "        remainder_to_cap=lambda x: x.donation_ceiling - x.home_run_donation_total,\n",
    "        texts_to_fill_cap=lambda x: x.remainder_to_cap / x.donation_per_text,\n",
    "        proportion_hr_donations=lambda x: x.home_run_donation_total / x.donation_ceiling,\n",
    "        ratio_hr_to_text_donations=lambda x: x.home_run_donation_total / x.remainder_to_cap,\n",
    "    )\n",
    ")"
   ]
  },
  {
   "cell_type": "code",
   "execution_count": 123,
   "id": "1ee650d3-e8bd-4784-9cd5-fb023f89b54a",
   "metadata": {},
   "outputs": [
    {
     "data": {
      "text/html": [
       "<div>\n",
       "<style scoped>\n",
       "    .dataframe tbody tr th:only-of-type {\n",
       "        vertical-align: middle;\n",
       "    }\n",
       "\n",
       "    .dataframe tbody tr th {\n",
       "        vertical-align: top;\n",
       "    }\n",
       "\n",
       "    .dataframe thead th {\n",
       "        text-align: right;\n",
       "    }\n",
       "</style>\n",
       "<table border=\"1\" class=\"dataframe\">\n",
       "  <thead>\n",
       "    <tr style=\"text-align: right;\">\n",
       "      <th></th>\n",
       "      <th>Winner</th>\n",
       "      <th>SeriesRecord</th>\n",
       "      <th>SeriesHomeRuns</th>\n",
       "      <th>GamesPlayed</th>\n",
       "      <th>donation_per_home_run</th>\n",
       "      <th>donation_ceiling</th>\n",
       "      <th>donation_per_text</th>\n",
       "      <th>home_run_donation_total</th>\n",
       "      <th>remainder_to_cap</th>\n",
       "      <th>texts_to_fill_cap</th>\n",
       "      <th>proportion_hr_donations</th>\n",
       "      <th>ratio_hr_to_text_donations</th>\n",
       "    </tr>\n",
       "  </thead>\n",
       "  <tbody>\n",
       "    <tr>\n",
       "      <th>0</th>\n",
       "      <td>Dodgers</td>\n",
       "      <td>(1, 4)</td>\n",
       "      <td>12</td>\n",
       "      <td>5</td>\n",
       "      <td>25000</td>\n",
       "      <td>1000000</td>\n",
       "      <td>10</td>\n",
       "      <td>300000</td>\n",
       "      <td>700000</td>\n",
       "      <td>70000.0</td>\n",
       "      <td>0.300</td>\n",
       "      <td>0.428571</td>\n",
       "    </tr>\n",
       "    <tr>\n",
       "      <th>1</th>\n",
       "      <td>Dodgers</td>\n",
       "      <td>(1, 4)</td>\n",
       "      <td>10</td>\n",
       "      <td>5</td>\n",
       "      <td>25000</td>\n",
       "      <td>1000000</td>\n",
       "      <td>10</td>\n",
       "      <td>250000</td>\n",
       "      <td>750000</td>\n",
       "      <td>75000.0</td>\n",
       "      <td>0.250</td>\n",
       "      <td>0.333333</td>\n",
       "    </tr>\n",
       "    <tr>\n",
       "      <th>2</th>\n",
       "      <td>Yankees</td>\n",
       "      <td>(4, 1)</td>\n",
       "      <td>16</td>\n",
       "      <td>5</td>\n",
       "      <td>25000</td>\n",
       "      <td>1000000</td>\n",
       "      <td>10</td>\n",
       "      <td>400000</td>\n",
       "      <td>600000</td>\n",
       "      <td>60000.0</td>\n",
       "      <td>0.400</td>\n",
       "      <td>0.666667</td>\n",
       "    </tr>\n",
       "    <tr>\n",
       "      <th>3</th>\n",
       "      <td>Dodgers</td>\n",
       "      <td>(3, 4)</td>\n",
       "      <td>19</td>\n",
       "      <td>7</td>\n",
       "      <td>25000</td>\n",
       "      <td>1000000</td>\n",
       "      <td>10</td>\n",
       "      <td>475000</td>\n",
       "      <td>525000</td>\n",
       "      <td>52500.0</td>\n",
       "      <td>0.475</td>\n",
       "      <td>0.904762</td>\n",
       "    </tr>\n",
       "    <tr>\n",
       "      <th>4</th>\n",
       "      <td>Dodgers</td>\n",
       "      <td>(2, 4)</td>\n",
       "      <td>22</td>\n",
       "      <td>6</td>\n",
       "      <td>25000</td>\n",
       "      <td>1000000</td>\n",
       "      <td>10</td>\n",
       "      <td>550000</td>\n",
       "      <td>450000</td>\n",
       "      <td>45000.0</td>\n",
       "      <td>0.550</td>\n",
       "      <td>1.222222</td>\n",
       "    </tr>\n",
       "    <tr>\n",
       "      <th>...</th>\n",
       "      <td>...</td>\n",
       "      <td>...</td>\n",
       "      <td>...</td>\n",
       "      <td>...</td>\n",
       "      <td>...</td>\n",
       "      <td>...</td>\n",
       "      <td>...</td>\n",
       "      <td>...</td>\n",
       "      <td>...</td>\n",
       "      <td>...</td>\n",
       "      <td>...</td>\n",
       "      <td>...</td>\n",
       "    </tr>\n",
       "    <tr>\n",
       "      <th>99995</th>\n",
       "      <td>Yankees</td>\n",
       "      <td>(4, 2)</td>\n",
       "      <td>17</td>\n",
       "      <td>6</td>\n",
       "      <td>25000</td>\n",
       "      <td>1000000</td>\n",
       "      <td>10</td>\n",
       "      <td>425000</td>\n",
       "      <td>575000</td>\n",
       "      <td>57500.0</td>\n",
       "      <td>0.425</td>\n",
       "      <td>0.739130</td>\n",
       "    </tr>\n",
       "    <tr>\n",
       "      <th>99996</th>\n",
       "      <td>Dodgers</td>\n",
       "      <td>(1, 4)</td>\n",
       "      <td>19</td>\n",
       "      <td>5</td>\n",
       "      <td>25000</td>\n",
       "      <td>1000000</td>\n",
       "      <td>10</td>\n",
       "      <td>475000</td>\n",
       "      <td>525000</td>\n",
       "      <td>52500.0</td>\n",
       "      <td>0.475</td>\n",
       "      <td>0.904762</td>\n",
       "    </tr>\n",
       "    <tr>\n",
       "      <th>99997</th>\n",
       "      <td>Dodgers</td>\n",
       "      <td>(2, 4)</td>\n",
       "      <td>20</td>\n",
       "      <td>6</td>\n",
       "      <td>25000</td>\n",
       "      <td>1000000</td>\n",
       "      <td>10</td>\n",
       "      <td>500000</td>\n",
       "      <td>500000</td>\n",
       "      <td>50000.0</td>\n",
       "      <td>0.500</td>\n",
       "      <td>1.000000</td>\n",
       "    </tr>\n",
       "    <tr>\n",
       "      <th>99998</th>\n",
       "      <td>Dodgers</td>\n",
       "      <td>(1, 4)</td>\n",
       "      <td>14</td>\n",
       "      <td>5</td>\n",
       "      <td>25000</td>\n",
       "      <td>1000000</td>\n",
       "      <td>10</td>\n",
       "      <td>350000</td>\n",
       "      <td>650000</td>\n",
       "      <td>65000.0</td>\n",
       "      <td>0.350</td>\n",
       "      <td>0.538462</td>\n",
       "    </tr>\n",
       "    <tr>\n",
       "      <th>99999</th>\n",
       "      <td>Dodgers</td>\n",
       "      <td>(2, 4)</td>\n",
       "      <td>15</td>\n",
       "      <td>6</td>\n",
       "      <td>25000</td>\n",
       "      <td>1000000</td>\n",
       "      <td>10</td>\n",
       "      <td>375000</td>\n",
       "      <td>625000</td>\n",
       "      <td>62500.0</td>\n",
       "      <td>0.375</td>\n",
       "      <td>0.600000</td>\n",
       "    </tr>\n",
       "  </tbody>\n",
       "</table>\n",
       "<p>100000 rows × 12 columns</p>\n",
       "</div>"
      ],
      "text/plain": [
       "        Winner SeriesRecord  SeriesHomeRuns  GamesPlayed  \\\n",
       "0      Dodgers       (1, 4)              12            5   \n",
       "1      Dodgers       (1, 4)              10            5   \n",
       "2      Yankees       (4, 1)              16            5   \n",
       "3      Dodgers       (3, 4)              19            7   \n",
       "4      Dodgers       (2, 4)              22            6   \n",
       "...        ...          ...             ...          ...   \n",
       "99995  Yankees       (4, 2)              17            6   \n",
       "99996  Dodgers       (1, 4)              19            5   \n",
       "99997  Dodgers       (2, 4)              20            6   \n",
       "99998  Dodgers       (1, 4)              14            5   \n",
       "99999  Dodgers       (2, 4)              15            6   \n",
       "\n",
       "       donation_per_home_run  donation_ceiling  donation_per_text  \\\n",
       "0                      25000           1000000                 10   \n",
       "1                      25000           1000000                 10   \n",
       "2                      25000           1000000                 10   \n",
       "3                      25000           1000000                 10   \n",
       "4                      25000           1000000                 10   \n",
       "...                      ...               ...                ...   \n",
       "99995                  25000           1000000                 10   \n",
       "99996                  25000           1000000                 10   \n",
       "99997                  25000           1000000                 10   \n",
       "99998                  25000           1000000                 10   \n",
       "99999                  25000           1000000                 10   \n",
       "\n",
       "       home_run_donation_total  remainder_to_cap  texts_to_fill_cap  \\\n",
       "0                       300000            700000            70000.0   \n",
       "1                       250000            750000            75000.0   \n",
       "2                       400000            600000            60000.0   \n",
       "3                       475000            525000            52500.0   \n",
       "4                       550000            450000            45000.0   \n",
       "...                        ...               ...                ...   \n",
       "99995                   425000            575000            57500.0   \n",
       "99996                   475000            525000            52500.0   \n",
       "99997                   500000            500000            50000.0   \n",
       "99998                   350000            650000            65000.0   \n",
       "99999                   375000            625000            62500.0   \n",
       "\n",
       "       proportion_hr_donations  ratio_hr_to_text_donations  \n",
       "0                        0.300                    0.428571  \n",
       "1                        0.250                    0.333333  \n",
       "2                        0.400                    0.666667  \n",
       "3                        0.475                    0.904762  \n",
       "4                        0.550                    1.222222  \n",
       "...                        ...                         ...  \n",
       "99995                    0.425                    0.739130  \n",
       "99996                    0.475                    0.904762  \n",
       "99997                    0.500                    1.000000  \n",
       "99998                    0.350                    0.538462  \n",
       "99999                    0.375                    0.600000  \n",
       "\n",
       "[100000 rows x 12 columns]"
      ]
     },
     "execution_count": 123,
     "metadata": {},
     "output_type": "execute_result"
    }
   ],
   "source": [
    "df"
   ]
  },
  {
   "cell_type": "markdown",
   "id": "73589e8d-307c-46bb-b806-998a0fe7205f",
   "metadata": {},
   "source": [
    "## Exploratory Analysis"
   ]
  },
  {
   "cell_type": "markdown",
   "id": "1ab81e02-ec14-42c2-ab65-99774f8f94fb",
   "metadata": {},
   "source": [
    "### How many games were played in the series?"
   ]
  },
  {
   "cell_type": "code",
   "execution_count": 97,
   "id": "5cbd0b97-df31-4c79-83d5-24d08dd98d27",
   "metadata": {},
   "outputs": [
    {
     "data": {
      "text/plain": [
       "<seaborn.axisgrid.FacetGrid at 0x30c13f980>"
      ]
     },
     "execution_count": 97,
     "metadata": {},
     "output_type": "execute_result"
    },
    {
     "data": {
      "image/png": "[encoded data removed]",
      "text/plain": [
       "<Figure size 1113.38x500 with 2 Axes>"
      ]
     },
     "metadata": {},
     "output_type": "display_data"
    }
   ],
   "source": [
    "sns.displot(df, x='GamesPlayed', hue='Winner', col='Winner', hue_order=['Yankees', 'Dodgers'], stat='percent', discrete=True)"
   ]
  },
  {
   "cell_type": "markdown",
   "id": "53e5cb90-fec3-4fbb-bca5-6b60ee0d4e80",
   "metadata": {},
   "source": [
    "### How many total home runs do we expect in the series?\n",
    "\n",
    "Our expected HR total is 15.86. The actual total was 16 (Yankees 7, Dodgers 9). Check it  out [here](https://www.baseball-reference.com/postseason/2024_WS.shtml)."
   ]
  },
  {
   "cell_type": "code",
   "execution_count": 100,
   "id": "27d8172d-bd08-4a08-9e10-c0f3770f2bb5",
   "metadata": {},
   "outputs": [],
   "source": [
    "shr = df.SeriesHomeRuns"
   ]
  },
  {
   "cell_type": "code",
   "execution_count": 101,
   "id": "4a30fffb-6a99-4b21-9451-21afd0848818",
   "metadata": {},
   "outputs": [
    {
     "data": {
      "text/plain": [
       "<Axes: >"
      ]
     },
     "execution_count": 101,
     "metadata": {},
     "output_type": "execute_result"
    },
    {
     "data": {
      "image/png": "[encoded data removed]",
      "text/plain": [
       "<Figure size 640x480 with 1 Axes>"
      ]
     },
     "metadata": {},
     "output_type": "display_data"
    }
   ],
   "source": [
    "shr.hist()"
   ]
  },
  {
   "cell_type": "code",
   "execution_count": 103,
   "id": "4f8f8e0c-f5aa-4a20-8dcb-9c80c9555bd2",
   "metadata": {},
   "outputs": [
    {
     "data": {
      "text/html": [
       "<div>\n",
       "<style scoped>\n",
       "    .dataframe tbody tr th:only-of-type {\n",
       "        vertical-align: middle;\n",
       "    }\n",
       "\n",
       "    .dataframe tbody tr th {\n",
       "        vertical-align: top;\n",
       "    }\n",
       "\n",
       "    .dataframe thead th {\n",
       "        text-align: right;\n",
       "    }\n",
       "</style>\n",
       "<table border=\"1\" class=\"dataframe\">\n",
       "  <thead>\n",
       "    <tr style=\"text-align: right;\">\n",
       "      <th></th>\n",
       "      <th>SeriesHomeRuns</th>\n",
       "    </tr>\n",
       "  </thead>\n",
       "  <tbody>\n",
       "    <tr>\n",
       "      <th>nobs</th>\n",
       "      <td>100000.000000</td>\n",
       "    </tr>\n",
       "    <tr>\n",
       "      <th>missing</th>\n",
       "      <td>0.000000</td>\n",
       "    </tr>\n",
       "    <tr>\n",
       "      <th>mean</th>\n",
       "      <td>15.907920</td>\n",
       "    </tr>\n",
       "    <tr>\n",
       "      <th>std_err</th>\n",
       "      <td>0.015942</td>\n",
       "    </tr>\n",
       "    <tr>\n",
       "      <th>upper_ci</th>\n",
       "      <td>15.939165</td>\n",
       "    </tr>\n",
       "    <tr>\n",
       "      <th>lower_ci</th>\n",
       "      <td>15.876675</td>\n",
       "    </tr>\n",
       "    <tr>\n",
       "      <th>std</th>\n",
       "      <td>5.041239</td>\n",
       "    </tr>\n",
       "    <tr>\n",
       "      <th>iqr</th>\n",
       "      <td>7.000000</td>\n",
       "    </tr>\n",
       "    <tr>\n",
       "      <th>iqr_normal</th>\n",
       "      <td>5.189108</td>\n",
       "    </tr>\n",
       "    <tr>\n",
       "      <th>mad</th>\n",
       "      <td>4.039093</td>\n",
       "    </tr>\n",
       "    <tr>\n",
       "      <th>mad_normal</th>\n",
       "      <td>5.062252</td>\n",
       "    </tr>\n",
       "    <tr>\n",
       "      <th>coef_var</th>\n",
       "      <td>0.316901</td>\n",
       "    </tr>\n",
       "    <tr>\n",
       "      <th>range</th>\n",
       "      <td>42.000000</td>\n",
       "    </tr>\n",
       "    <tr>\n",
       "      <th>max</th>\n",
       "      <td>43.000000</td>\n",
       "    </tr>\n",
       "    <tr>\n",
       "      <th>min</th>\n",
       "      <td>1.000000</td>\n",
       "    </tr>\n",
       "    <tr>\n",
       "      <th>skew</th>\n",
       "      <td>0.367977</td>\n",
       "    </tr>\n",
       "    <tr>\n",
       "      <th>kurtosis</th>\n",
       "      <td>3.000043</td>\n",
       "    </tr>\n",
       "    <tr>\n",
       "      <th>jarque_bera</th>\n",
       "      <td>2256.789438</td>\n",
       "    </tr>\n",
       "    <tr>\n",
       "      <th>jarque_bera_pval</th>\n",
       "      <td>0.000000</td>\n",
       "    </tr>\n",
       "    <tr>\n",
       "      <th>mode</th>\n",
       "      <td>15.000000</td>\n",
       "    </tr>\n",
       "    <tr>\n",
       "      <th>mode_freq</th>\n",
       "      <td>0.078260</td>\n",
       "    </tr>\n",
       "    <tr>\n",
       "      <th>median</th>\n",
       "      <td>16.000000</td>\n",
       "    </tr>\n",
       "    <tr>\n",
       "      <th>1%</th>\n",
       "      <td>6.000000</td>\n",
       "    </tr>\n",
       "    <tr>\n",
       "      <th>5%</th>\n",
       "      <td>8.000000</td>\n",
       "    </tr>\n",
       "    <tr>\n",
       "      <th>10%</th>\n",
       "      <td>10.000000</td>\n",
       "    </tr>\n",
       "    <tr>\n",
       "      <th>25%</th>\n",
       "      <td>12.000000</td>\n",
       "    </tr>\n",
       "    <tr>\n",
       "      <th>50%</th>\n",
       "      <td>16.000000</td>\n",
       "    </tr>\n",
       "    <tr>\n",
       "      <th>75%</th>\n",
       "      <td>19.000000</td>\n",
       "    </tr>\n",
       "    <tr>\n",
       "      <th>90%</th>\n",
       "      <td>23.000000</td>\n",
       "    </tr>\n",
       "    <tr>\n",
       "      <th>95%</th>\n",
       "      <td>25.000000</td>\n",
       "    </tr>\n",
       "    <tr>\n",
       "      <th>99%</th>\n",
       "      <td>29.000000</td>\n",
       "    </tr>\n",
       "  </tbody>\n",
       "</table>\n",
       "</div>"
      ],
      "text/plain": [
       "                  SeriesHomeRuns\n",
       "nobs               100000.000000\n",
       "missing                 0.000000\n",
       "mean                   15.907920\n",
       "std_err                 0.015942\n",
       "upper_ci               15.939165\n",
       "lower_ci               15.876675\n",
       "std                     5.041239\n",
       "iqr                     7.000000\n",
       "iqr_normal              5.189108\n",
       "mad                     4.039093\n",
       "mad_normal              5.062252\n",
       "coef_var                0.316901\n",
       "range                  42.000000\n",
       "max                    43.000000\n",
       "min                     1.000000\n",
       "skew                    0.367977\n",
       "kurtosis                3.000043\n",
       "jarque_bera          2256.789438\n",
       "jarque_bera_pval        0.000000\n",
       "mode                   15.000000\n",
       "mode_freq               0.078260\n",
       "median                 16.000000\n",
       "1%                      6.000000\n",
       "5%                      8.000000\n",
       "10%                    10.000000\n",
       "25%                    12.000000\n",
       "50%                    16.000000\n",
       "75%                    19.000000\n",
       "90%                    23.000000\n",
       "95%                    25.000000\n",
       "99%                    29.000000"
      ]
     },
     "execution_count": 103,
     "metadata": {},
     "output_type": "execute_result"
    }
   ],
   "source": [
    "from statsmodels.stats.descriptivestats import describe\n",
    "describe(shr)"
   ]
  },
  {
   "cell_type": "markdown",
   "id": "42f49633-98c6-4b66-87e9-a627bc87dd7b",
   "metadata": {},
   "source": [
    "## Distribution of Series Home Runs"
   ]
  },
  {
   "cell_type": "markdown",
   "id": "d898307c-6347-4398-8465-0be1fb754da1",
   "metadata": {},
   "source": [
    "Since it's has huge influence on the donation, let's study the distribition of home runs hit.\n",
    "\n",
    "The simulation generates enough data that we could query it directly.\n",
    "What if we didn't have such complete data or wanted to extrapolate our sample to a theorized distribution, or wanted to leverage the methods defined in our stats packages?\n",
    "We can conveniently fit a distribution to our sample and pass the learned parameters into an instance of the distribution."
   ]
  },
  {
   "cell_type": "markdown",
   "id": "c93018b5-ce1c-4864-9489-ec3e1bb426f9",
   "metadata": {},
   "source": [
    "### Manual Example"
   ]
  },
  {
   "cell_type": "markdown",
   "id": "dcf88aed-bd59-426c-a007-3ff3bd419f5f",
   "metadata": {},
   "source": [
    "What proportion of the simulated series had `SeriesHomeRuns > 20`?"
   ]
  },
  {
   "cell_type": "markdown",
   "id": "fb27a5ba-71f0-46b0-a425-1161b8c81fd0",
   "metadata": {},
   "source": [
    "### Fitting a Poisson Distribution"
   ]
  },
  {
   "cell_type": "code",
   "execution_count": 221,
   "id": "474887ad-d082-4945-9a37-1c4c967b3c1d",
   "metadata": {},
   "outputs": [
    {
     "name": "stdout",
     "output_type": "stream",
     "text": [
      "Optimization terminated successfully. FitParams(mu=np.float64(15.90791400978277), loc=np.float64(0.0))\n"
     ]
    }
   ],
   "source": [
    "bounds = {'mu': (0, 20)}\n",
    "res = stats.fit(\n",
    "    stats.poisson, shr.to_numpy(), bounds=bounds\n",
    ")\n",
    "\n",
    "fitted_prv = stats.poisson(*res.params)\n",
    "\n",
    "print(res.message, res.params)"
   ]
  },
  {
   "cell_type": "code",
   "execution_count": 241,
   "id": "ea03cbec-90ad-4964-ade1-79057d1cf70f",
   "metadata": {},
   "outputs": [
    {
     "data": {
      "text/plain": [
       "<Axes: title={'center': 'Fitted $\\\\tt poisson$ PMF and Histogram'}, xlabel='k', ylabel='PMF'>"
      ]
     },
     "execution_count": 241,
     "metadata": {},
     "output_type": "execute_result"
    },
    {
     "data": {
      "image/png": "[encoded data removed]",
      "text/plain": [
       "<Figure size 640x480 with 1 Axes>"
      ]
     },
     "metadata": {},
     "output_type": "display_data"
    }
   ],
   "source": [
    "res.plot(plot_type='hist')"
   ]
  },
  {
   "cell_type": "markdown",
   "id": "24beff14-1b68-490f-b151-366ddfb5858d",
   "metadata": {},
   "source": [
    "### Can we test whether this was the right theorized distribution?"
   ]
  },
  {
   "cell_type": "code",
   "execution_count": 240,
   "id": "b51a8048-57ca-436b-85b4-137d979877e1",
   "metadata": {},
   "outputs": [
    {
     "data": {
      "text/plain": [
       "KstestResult(statistic=np.float64(0.5055000000000001), pvalue=np.float64(0.9889999999999999), statistic_location=np.float64(15.90792), statistic_sign=np.int8(-1))"
      ]
     },
     "execution_count": 240,
     "metadata": {},
     "output_type": "execute_result"
    }
   ],
   "source": [
    "stats.kstest(shr, shr.mean(), 'poisson')"
   ]
  },
  {
   "cell_type": "markdown",
   "id": "9c1c8a7b-552c-4819-9209-4f6afbde1e24",
   "metadata": {},
   "source": [
    "The sample likely came from this distribution."
   ]
  },
  {
   "cell_type": "code",
   "execution_count": 223,
   "id": "20394f44-2c90-433e-9065-8aea423ad95b",
   "metadata": {},
   "outputs": [
    {
     "data": {
      "text/plain": [
       "0.18227"
      ]
     },
     "execution_count": 223,
     "metadata": {},
     "output_type": "execute_result"
    }
   ],
   "source": [
    "len(df.query('SeriesHomeRuns > 20')) / len(df)"
   ]
  },
  {
   "cell_type": "markdown",
   "id": "0a5c4822-fae7-41be-9380-aefc6d939ff8",
   "metadata": {},
   "source": [
    "### Fitted Distribution Example"
   ]
  },
  {
   "cell_type": "code",
   "execution_count": 224,
   "id": "aabec4ee-ad9f-4cd9-894d-ae19cfe76c69",
   "metadata": {},
   "outputs": [
    {
     "data": {
      "text/plain": [
       "np.float64(0.1267419442640715)"
      ]
     },
     "execution_count": 224,
     "metadata": {},
     "output_type": "execute_result"
    }
   ],
   "source": [
    "fitted_prv.sf(20)"
   ]
  },
  {
   "cell_type": "markdown",
   "id": "8f87bb8f-78f5-41df-8c60-eeb7a6f8e4e6",
   "metadata": {},
   "source": [
    "## Determining T-Mobile's Assumptions"
   ]
  },
  {
   "cell_type": "markdown",
   "id": "03eca294-bbce-4827-8381-ec71ed0a72ce",
   "metadata": {},
   "source": [
    "How many people watched the world series? What % of viewers do you expect a text from?\n",
    "https://www.mlb.com/press-release/press-release-2024-world-series-drives-big-results-across-global-viewership-merchandise-sales-attendance-and-social-media#:~:text=The%20Fall%20Classic%20drew%20more,seven%2Dgame%202017%20World%20Series.\n",
    "\n",
    "> The Fall Classic drew more than 30 million combined average viewers across North America and Asia. As reported by FOX, World Series viewership in the U.S. averaged 15.8 million across its platforms, a +67% increase versus last year and the most-watched series since the seven-game 2017 World Series.\n",
    "\n",
    "We'll use the 15.8 Million USA number because these are the people likely targeted with the ads and have the most desire to donate to US Hurricane Relief.\n",
    "\n",
    "Let's make some broad assumptions:\n",
    "1. T-Mobile knew this and expected about 16 home runs to be hit.\n",
    "    2. $1 Million dollars is a nice, big, round number to register as a donation cap.\n",
    "3. Nearly all of the 30M were repeat viewers and there was negligible turnover from game to game. The portion of inconsistent viewership that would end up sending a text is negligible.\n",
    "\n",
    "They probably wanted to set cap at a good sounding but realistic round number. And it's probably a good thing to set the cap at something realistic, since if they set it at an unrealistic target just to sound good and somebody ever followed up on the true number it could be a PR fiasco."
   ]
  },
  {
   "cell_type": "code",
   "execution_count": 174,
   "id": "79baa11d-fab2-4572-8426-c60fc7edc977",
   "metadata": {},
   "outputs": [],
   "source": [
    "COMBINED_AVERAGE_VIEWERS = 30_000_000 # Worldwide viewership - just saving for reference.\n",
    "US_VIEWERSHIP = 15_800_000"
   ]
  },
  {
   "cell_type": "code",
   "execution_count": 175,
   "id": "79ba8e2e-711e-4068-8388-7cd4014848f9",
   "metadata": {},
   "outputs": [
    {
     "data": {
      "text/html": [
       "<div>\n",
       "<style scoped>\n",
       "    .dataframe tbody tr th:only-of-type {\n",
       "        vertical-align: middle;\n",
       "    }\n",
       "\n",
       "    .dataframe tbody tr th {\n",
       "        vertical-align: top;\n",
       "    }\n",
       "\n",
       "    .dataframe thead th {\n",
       "        text-align: right;\n",
       "    }\n",
       "</style>\n",
       "<table border=\"1\" class=\"dataframe\">\n",
       "  <thead>\n",
       "    <tr style=\"text-align: right;\">\n",
       "      <th></th>\n",
       "      <th>SeriesHomeRuns</th>\n",
       "      <th>texts_to_fill_cap</th>\n",
       "      <th>proportion_hr_donations</th>\n",
       "    </tr>\n",
       "  </thead>\n",
       "  <tbody>\n",
       "    <tr>\n",
       "      <th>count</th>\n",
       "      <td>100000.000000</td>\n",
       "      <td>100000.00000</td>\n",
       "      <td>100000.000000</td>\n",
       "    </tr>\n",
       "    <tr>\n",
       "      <th>mean</th>\n",
       "      <td>15.907920</td>\n",
       "      <td>60230.20000</td>\n",
       "      <td>0.397698</td>\n",
       "    </tr>\n",
       "    <tr>\n",
       "      <th>std</th>\n",
       "      <td>5.041239</td>\n",
       "      <td>12603.09868</td>\n",
       "      <td>0.126031</td>\n",
       "    </tr>\n",
       "    <tr>\n",
       "      <th>min</th>\n",
       "      <td>1.000000</td>\n",
       "      <td>-7500.00000</td>\n",
       "      <td>0.025000</td>\n",
       "    </tr>\n",
       "    <tr>\n",
       "      <th>25%</th>\n",
       "      <td>12.000000</td>\n",
       "      <td>52500.00000</td>\n",
       "      <td>0.300000</td>\n",
       "    </tr>\n",
       "    <tr>\n",
       "      <th>50%</th>\n",
       "      <td>16.000000</td>\n",
       "      <td>60000.00000</td>\n",
       "      <td>0.400000</td>\n",
       "    </tr>\n",
       "    <tr>\n",
       "      <th>75%</th>\n",
       "      <td>19.000000</td>\n",
       "      <td>70000.00000</td>\n",
       "      <td>0.475000</td>\n",
       "    </tr>\n",
       "    <tr>\n",
       "      <th>max</th>\n",
       "      <td>43.000000</td>\n",
       "      <td>97500.00000</td>\n",
       "      <td>1.075000</td>\n",
       "    </tr>\n",
       "  </tbody>\n",
       "</table>\n",
       "</div>"
      ],
      "text/plain": [
       "       SeriesHomeRuns  texts_to_fill_cap  proportion_hr_donations\n",
       "count   100000.000000       100000.00000            100000.000000\n",
       "mean        15.907920        60230.20000                 0.397698\n",
       "std          5.041239        12603.09868                 0.126031\n",
       "min          1.000000        -7500.00000                 0.025000\n",
       "25%         12.000000        52500.00000                 0.300000\n",
       "50%         16.000000        60000.00000                 0.400000\n",
       "75%         19.000000        70000.00000                 0.475000\n",
       "max         43.000000        97500.00000                 1.075000"
      ]
     },
     "execution_count": 175,
     "metadata": {},
     "output_type": "execute_result"
    }
   ],
   "source": [
    "df.describe()[['SeriesHomeRuns', 'texts_to_fill_cap', 'proportion_hr_donations']]"
   ]
  },
  {
   "cell_type": "markdown",
   "id": "f166b16a-27f5-4a51-885e-e1bc895abe41",
   "metadata": {},
   "source": [
    "Expecting ~16 home runs, ~60,000 texts would be required to fill to the cap, and assuming about 15.8 US viewers were expected, we can roughly guess what percent of viewership T-Mobile expected to send a text."
   ]
  },
  {
   "cell_type": "code",
   "execution_count": 251,
   "id": "0b84d141-643e-484d-902b-57abd721c6fc",
   "metadata": {},
   "outputs": [
    {
     "data": {
      "text/plain": [
       "np.float64(0.0038120379746835443)"
      ]
     },
     "execution_count": 251,
     "metadata": {},
     "output_type": "execute_result"
    }
   ],
   "source": [
    "df.texts_to_fill_cap.mean() / US_VIEWERSHIP"
   ]
  },
  {
   "cell_type": "markdown",
   "id": "b5e9189b-dcf2-4f87-a816-661951f72ac1",
   "metadata": {},
   "source": [
    "0.3% of 15.8 million viewers would have to send a text for T-Mobile to reach their donation cap of $1 million."
   ]
  },
  {
   "cell_type": "markdown",
   "id": "366d7f36-a8c4-4d84-8c64-28c8da564dda",
   "metadata": {},
   "source": [
    "## Appendix"
   ]
  },
  {
   "cell_type": "markdown",
   "id": "786e8068-7e4b-4933-89ab-72b4981b6c4c",
   "metadata": {},
   "source": [
    "### WS Opponents' Records\n",
    "\n",
    "Here is the rudimentary code for scraping the records of teams that competed in the World Series.\n",
    "\n",
    "TODO:\n",
    "- Collect opponents records. (Blocked by rate limiting now.)\n",
    "- Run a statistical test to see contingency results of Better Record by WS Winner"
   ]
  },
  {
   "cell_type": "code",
   "execution_count": 67,
   "id": "10792445-8665-46c8-bc25-a27ca9ef4b2f",
   "metadata": {
    "scrolled": true
   },
   "outputs": [
    {
     "ename": "HTTPError",
     "evalue": "HTTP Error 429: Too Many Requests",
     "output_type": "error",
     "traceback": [
      "\u001b[0;31m---------------------------------------------------------------------------\u001b[0m",
      "\u001b[0;31mHTTPError\u001b[0m                                 Traceback (most recent call last)",
      "Cell \u001b[0;32mIn[67], line 14\u001b[0m\n\u001b[1;32m      9\u001b[0m webpage \u001b[38;5;241m=\u001b[39m urllib\u001b[38;5;241m.\u001b[39mparse\u001b[38;5;241m.\u001b[39murljoin(root, \u001b[38;5;124m'\u001b[39m\u001b[38;5;124mpostseason/world-series.shtml\u001b[39m\u001b[38;5;124m'\u001b[39m)\n\u001b[1;32m     11\u001b[0m n_previous_years \u001b[38;5;241m=\u001b[39m \u001b[38;5;241m20\u001b[39m\n\u001b[1;32m     13\u001b[0m df \u001b[38;5;241m=\u001b[39m (\n\u001b[0;32m---> 14\u001b[0m     \u001b[43mpd\u001b[49m\u001b[38;5;241;43m.\u001b[39;49m\u001b[43mread_html\u001b[49m\u001b[43m(\u001b[49m\u001b[43mwebpage\u001b[49m\u001b[43m)\u001b[49m[\u001b[38;5;241m0\u001b[39m]\n\u001b[1;32m     15\u001b[0m     \u001b[38;5;241m.\u001b[39massign(\n\u001b[1;32m     16\u001b[0m         wins_al\u001b[38;5;241m=\u001b[39m\u001b[38;5;28;01mlambda\u001b[39;00m df: df[\u001b[38;5;124m'\u001b[39m\u001b[38;5;124mWins\u001b[39m\u001b[38;5;124m'\u001b[39m],\n\u001b[1;32m     17\u001b[0m         wins_nl\u001b[38;5;241m=\u001b[39m\u001b[38;5;28;01mlambda\u001b[39;00m df: df[\u001b[38;5;124m'\u001b[39m\u001b[38;5;124mWins.1\u001b[39m\u001b[38;5;124m'\u001b[39m],\n\u001b[1;32m     18\u001b[0m         ws_winner\u001b[38;5;241m=\u001b[39m\u001b[38;5;28;01mlambda\u001b[39;00m df: np\u001b[38;5;241m.\u001b[39mwhere(df\u001b[38;5;241m.\u001b[39mwins_al \u001b[38;5;241m>\u001b[39m df\u001b[38;5;241m.\u001b[39mwins_nl, df[\u001b[38;5;124m'\u001b[39m\u001b[38;5;124mAL Winner\u001b[39m\u001b[38;5;124m'\u001b[39m], df[\u001b[38;5;124m'\u001b[39m\u001b[38;5;124mNL Winner\u001b[39m\u001b[38;5;124m'\u001b[39m]) \n\u001b[1;32m     19\u001b[0m     )\n\u001b[1;32m     20\u001b[0m     \u001b[38;5;241m.\u001b[39mdrop(columns\u001b[38;5;241m=\u001b[39m[\u001b[38;5;124m'\u001b[39m\u001b[38;5;124mWins\u001b[39m\u001b[38;5;124m'\u001b[39m, \u001b[38;5;124m'\u001b[39m\u001b[38;5;124mWins.1\u001b[39m\u001b[38;5;124m'\u001b[39m])\n\u001b[1;32m     21\u001b[0m     \u001b[38;5;241m.\u001b[39mloc[:\u001b[38;5;241m119\u001b[39m]\n\u001b[1;32m     22\u001b[0m )\n\u001b[1;32m     24\u001b[0m df\n\u001b[1;32m     26\u001b[0m \u001b[38;5;66;03m# r = requests.get(webpage)\u001b[39;00m\n\u001b[1;32m     27\u001b[0m \u001b[38;5;66;03m# soup = BeautifulSoup(r.text)\u001b[39;00m\n\u001b[1;32m     28\u001b[0m \n\u001b[0;32m   (...)\u001b[0m\n\u001b[1;32m     45\u001b[0m \u001b[38;5;66;03m# al_records = pd.DataFrame(get_team_record(r) for r in al_team_rows[:n_previous_years])\u001b[39;00m\n\u001b[1;32m     46\u001b[0m \u001b[38;5;66;03m# nl_records = pd.DataFrame(get_team_record(r) for r in nl_team_rows[:n_previous_years])\u001b[39;00m\n",
      "File \u001b[0;32m~/Documents/Developer/venv/lib/python3.12/site-packages/pandas/io/html.py:1240\u001b[0m, in \u001b[0;36mread_html\u001b[0;34m(io, match, flavor, header, index_col, skiprows, attrs, parse_dates, thousands, encoding, decimal, converters, na_values, keep_default_na, displayed_only, extract_links, dtype_backend, storage_options)\u001b[0m\n\u001b[1;32m   1224\u001b[0m \u001b[38;5;28;01mif\u001b[39;00m \u001b[38;5;28misinstance\u001b[39m(io, \u001b[38;5;28mstr\u001b[39m) \u001b[38;5;129;01mand\u001b[39;00m \u001b[38;5;129;01mnot\u001b[39;00m \u001b[38;5;28many\u001b[39m(\n\u001b[1;32m   1225\u001b[0m     [\n\u001b[1;32m   1226\u001b[0m         is_file_like(io),\n\u001b[0;32m   (...)\u001b[0m\n\u001b[1;32m   1230\u001b[0m     ]\n\u001b[1;32m   1231\u001b[0m ):\n\u001b[1;32m   1232\u001b[0m     warnings\u001b[38;5;241m.\u001b[39mwarn(\n\u001b[1;32m   1233\u001b[0m         \u001b[38;5;124m\"\u001b[39m\u001b[38;5;124mPassing literal html to \u001b[39m\u001b[38;5;124m'\u001b[39m\u001b[38;5;124mread_html\u001b[39m\u001b[38;5;124m'\u001b[39m\u001b[38;5;124m is deprecated and \u001b[39m\u001b[38;5;124m\"\u001b[39m\n\u001b[1;32m   1234\u001b[0m         \u001b[38;5;124m\"\u001b[39m\u001b[38;5;124mwill be removed in a future version. To read from a \u001b[39m\u001b[38;5;124m\"\u001b[39m\n\u001b[0;32m   (...)\u001b[0m\n\u001b[1;32m   1237\u001b[0m         stacklevel\u001b[38;5;241m=\u001b[39mfind_stack_level(),\n\u001b[1;32m   1238\u001b[0m     )\n\u001b[0;32m-> 1240\u001b[0m \u001b[38;5;28;01mreturn\u001b[39;00m \u001b[43m_parse\u001b[49m\u001b[43m(\u001b[49m\n\u001b[1;32m   1241\u001b[0m \u001b[43m    \u001b[49m\u001b[43mflavor\u001b[49m\u001b[38;5;241;43m=\u001b[39;49m\u001b[43mflavor\u001b[49m\u001b[43m,\u001b[49m\n\u001b[1;32m   1242\u001b[0m \u001b[43m    \u001b[49m\u001b[43mio\u001b[49m\u001b[38;5;241;43m=\u001b[39;49m\u001b[43mio\u001b[49m\u001b[43m,\u001b[49m\n\u001b[1;32m   1243\u001b[0m \u001b[43m    \u001b[49m\u001b[43mmatch\u001b[49m\u001b[38;5;241;43m=\u001b[39;49m\u001b[43mmatch\u001b[49m\u001b[43m,\u001b[49m\n\u001b[1;32m   1244\u001b[0m \u001b[43m    \u001b[49m\u001b[43mheader\u001b[49m\u001b[38;5;241;43m=\u001b[39;49m\u001b[43mheader\u001b[49m\u001b[43m,\u001b[49m\n\u001b[1;32m   1245\u001b[0m \u001b[43m    \u001b[49m\u001b[43mindex_col\u001b[49m\u001b[38;5;241;43m=\u001b[39;49m\u001b[43mindex_col\u001b[49m\u001b[43m,\u001b[49m\n\u001b[1;32m   1246\u001b[0m \u001b[43m    \u001b[49m\u001b[43mskiprows\u001b[49m\u001b[38;5;241;43m=\u001b[39;49m\u001b[43mskiprows\u001b[49m\u001b[43m,\u001b[49m\n\u001b[1;32m   1247\u001b[0m \u001b[43m    \u001b[49m\u001b[43mparse_dates\u001b[49m\u001b[38;5;241;43m=\u001b[39;49m\u001b[43mparse_dates\u001b[49m\u001b[43m,\u001b[49m\n\u001b[1;32m   1248\u001b[0m \u001b[43m    \u001b[49m\u001b[43mthousands\u001b[49m\u001b[38;5;241;43m=\u001b[39;49m\u001b[43mthousands\u001b[49m\u001b[43m,\u001b[49m\n\u001b[1;32m   1249\u001b[0m \u001b[43m    \u001b[49m\u001b[43mattrs\u001b[49m\u001b[38;5;241;43m=\u001b[39;49m\u001b[43mattrs\u001b[49m\u001b[43m,\u001b[49m\n\u001b[1;32m   1250\u001b[0m \u001b[43m    \u001b[49m\u001b[43mencoding\u001b[49m\u001b[38;5;241;43m=\u001b[39;49m\u001b[43mencoding\u001b[49m\u001b[43m,\u001b[49m\n\u001b[1;32m   1251\u001b[0m \u001b[43m    \u001b[49m\u001b[43mdecimal\u001b[49m\u001b[38;5;241;43m=\u001b[39;49m\u001b[43mdecimal\u001b[49m\u001b[43m,\u001b[49m\n\u001b[1;32m   1252\u001b[0m \u001b[43m    \u001b[49m\u001b[43mconverters\u001b[49m\u001b[38;5;241;43m=\u001b[39;49m\u001b[43mconverters\u001b[49m\u001b[43m,\u001b[49m\n\u001b[1;32m   1253\u001b[0m \u001b[43m    \u001b[49m\u001b[43mna_values\u001b[49m\u001b[38;5;241;43m=\u001b[39;49m\u001b[43mna_values\u001b[49m\u001b[43m,\u001b[49m\n\u001b[1;32m   1254\u001b[0m \u001b[43m    \u001b[49m\u001b[43mkeep_default_na\u001b[49m\u001b[38;5;241;43m=\u001b[39;49m\u001b[43mkeep_default_na\u001b[49m\u001b[43m,\u001b[49m\n\u001b[1;32m   1255\u001b[0m \u001b[43m    \u001b[49m\u001b[43mdisplayed_only\u001b[49m\u001b[38;5;241;43m=\u001b[39;49m\u001b[43mdisplayed_only\u001b[49m\u001b[43m,\u001b[49m\n\u001b[1;32m   1256\u001b[0m \u001b[43m    \u001b[49m\u001b[43mextract_links\u001b[49m\u001b[38;5;241;43m=\u001b[39;49m\u001b[43mextract_links\u001b[49m\u001b[43m,\u001b[49m\n\u001b[1;32m   1257\u001b[0m \u001b[43m    \u001b[49m\u001b[43mdtype_backend\u001b[49m\u001b[38;5;241;43m=\u001b[39;49m\u001b[43mdtype_backend\u001b[49m\u001b[43m,\u001b[49m\n\u001b[1;32m   1258\u001b[0m \u001b[43m    \u001b[49m\u001b[43mstorage_options\u001b[49m\u001b[38;5;241;43m=\u001b[39;49m\u001b[43mstorage_options\u001b[49m\u001b[43m,\u001b[49m\n\u001b[1;32m   1259\u001b[0m \u001b[43m\u001b[49m\u001b[43m)\u001b[49m\n",
      "File \u001b[0;32m~/Documents/Developer/venv/lib/python3.12/site-packages/pandas/io/html.py:983\u001b[0m, in \u001b[0;36m_parse\u001b[0;34m(flavor, io, match, attrs, encoding, displayed_only, extract_links, storage_options, **kwargs)\u001b[0m\n\u001b[1;32m    972\u001b[0m p \u001b[38;5;241m=\u001b[39m parser(\n\u001b[1;32m    973\u001b[0m     io,\n\u001b[1;32m    974\u001b[0m     compiled_match,\n\u001b[0;32m   (...)\u001b[0m\n\u001b[1;32m    979\u001b[0m     storage_options,\n\u001b[1;32m    980\u001b[0m )\n\u001b[1;32m    982\u001b[0m \u001b[38;5;28;01mtry\u001b[39;00m:\n\u001b[0;32m--> 983\u001b[0m     tables \u001b[38;5;241m=\u001b[39m \u001b[43mp\u001b[49m\u001b[38;5;241;43m.\u001b[39;49m\u001b[43mparse_tables\u001b[49m\u001b[43m(\u001b[49m\u001b[43m)\u001b[49m\n\u001b[1;32m    984\u001b[0m \u001b[38;5;28;01mexcept\u001b[39;00m \u001b[38;5;167;01mValueError\u001b[39;00m \u001b[38;5;28;01mas\u001b[39;00m caught:\n\u001b[1;32m    985\u001b[0m     \u001b[38;5;66;03m# if `io` is an io-like object, check if it's seekable\u001b[39;00m\n\u001b[1;32m    986\u001b[0m     \u001b[38;5;66;03m# and try to rewind it before trying the next parser\u001b[39;00m\n\u001b[1;32m    987\u001b[0m     \u001b[38;5;28;01mif\u001b[39;00m \u001b[38;5;28mhasattr\u001b[39m(io, \u001b[38;5;124m\"\u001b[39m\u001b[38;5;124mseekable\u001b[39m\u001b[38;5;124m\"\u001b[39m) \u001b[38;5;129;01mand\u001b[39;00m io\u001b[38;5;241m.\u001b[39mseekable():\n",
      "File \u001b[0;32m~/Documents/Developer/venv/lib/python3.12/site-packages/pandas/io/html.py:249\u001b[0m, in \u001b[0;36m_HtmlFrameParser.parse_tables\u001b[0;34m(self)\u001b[0m\n\u001b[1;32m    241\u001b[0m \u001b[38;5;28;01mdef\u001b[39;00m \u001b[38;5;21mparse_tables\u001b[39m(\u001b[38;5;28mself\u001b[39m):\n\u001b[1;32m    242\u001b[0m \u001b[38;5;250m    \u001b[39m\u001b[38;5;124;03m\"\"\"\u001b[39;00m\n\u001b[1;32m    243\u001b[0m \u001b[38;5;124;03m    Parse and return all tables from the DOM.\u001b[39;00m\n\u001b[1;32m    244\u001b[0m \n\u001b[0;32m   (...)\u001b[0m\n\u001b[1;32m    247\u001b[0m \u001b[38;5;124;03m    list of parsed (header, body, footer) tuples from tables.\u001b[39;00m\n\u001b[1;32m    248\u001b[0m \u001b[38;5;124;03m    \"\"\"\u001b[39;00m\n\u001b[0;32m--> 249\u001b[0m     tables \u001b[38;5;241m=\u001b[39m \u001b[38;5;28mself\u001b[39m\u001b[38;5;241m.\u001b[39m_parse_tables(\u001b[38;5;28;43mself\u001b[39;49m\u001b[38;5;241;43m.\u001b[39;49m\u001b[43m_build_doc\u001b[49m\u001b[43m(\u001b[49m\u001b[43m)\u001b[49m, \u001b[38;5;28mself\u001b[39m\u001b[38;5;241m.\u001b[39mmatch, \u001b[38;5;28mself\u001b[39m\u001b[38;5;241m.\u001b[39mattrs)\n\u001b[1;32m    250\u001b[0m     \u001b[38;5;28;01mreturn\u001b[39;00m (\u001b[38;5;28mself\u001b[39m\u001b[38;5;241m.\u001b[39m_parse_thead_tbody_tfoot(table) \u001b[38;5;28;01mfor\u001b[39;00m table \u001b[38;5;129;01min\u001b[39;00m tables)\n",
      "File \u001b[0;32m~/Documents/Developer/venv/lib/python3.12/site-packages/pandas/io/html.py:806\u001b[0m, in \u001b[0;36m_LxmlFrameParser._build_doc\u001b[0;34m(self)\u001b[0m\n\u001b[1;32m    804\u001b[0m             \u001b[38;5;28;01mpass\u001b[39;00m\n\u001b[1;32m    805\u001b[0m     \u001b[38;5;28;01melse\u001b[39;00m:\n\u001b[0;32m--> 806\u001b[0m         \u001b[38;5;28;01mraise\u001b[39;00m e\n\u001b[1;32m    807\u001b[0m \u001b[38;5;28;01melse\u001b[39;00m:\n\u001b[1;32m    808\u001b[0m     \u001b[38;5;28;01mif\u001b[39;00m \u001b[38;5;129;01mnot\u001b[39;00m \u001b[38;5;28mhasattr\u001b[39m(r, \u001b[38;5;124m\"\u001b[39m\u001b[38;5;124mtext_content\u001b[39m\u001b[38;5;124m\"\u001b[39m):\n",
      "File \u001b[0;32m~/Documents/Developer/venv/lib/python3.12/site-packages/pandas/io/html.py:785\u001b[0m, in \u001b[0;36m_LxmlFrameParser._build_doc\u001b[0;34m(self)\u001b[0m\n\u001b[1;32m    783\u001b[0m \u001b[38;5;28;01mtry\u001b[39;00m:\n\u001b[1;32m    784\u001b[0m     \u001b[38;5;28;01mif\u001b[39;00m is_url(\u001b[38;5;28mself\u001b[39m\u001b[38;5;241m.\u001b[39mio):\n\u001b[0;32m--> 785\u001b[0m         \u001b[38;5;28;01mwith\u001b[39;00m \u001b[43mget_handle\u001b[49m\u001b[43m(\u001b[49m\n\u001b[1;32m    786\u001b[0m \u001b[43m            \u001b[49m\u001b[38;5;28;43mself\u001b[39;49m\u001b[38;5;241;43m.\u001b[39;49m\u001b[43mio\u001b[49m\u001b[43m,\u001b[49m\u001b[43m \u001b[49m\u001b[38;5;124;43m\"\u001b[39;49m\u001b[38;5;124;43mr\u001b[39;49m\u001b[38;5;124;43m\"\u001b[39;49m\u001b[43m,\u001b[49m\u001b[43m \u001b[49m\u001b[43mstorage_options\u001b[49m\u001b[38;5;241;43m=\u001b[39;49m\u001b[38;5;28;43mself\u001b[39;49m\u001b[38;5;241;43m.\u001b[39;49m\u001b[43mstorage_options\u001b[49m\n\u001b[1;32m    787\u001b[0m \u001b[43m        \u001b[49m\u001b[43m)\u001b[49m \u001b[38;5;28;01mas\u001b[39;00m f:\n\u001b[1;32m    788\u001b[0m             r \u001b[38;5;241m=\u001b[39m parse(f\u001b[38;5;241m.\u001b[39mhandle, parser\u001b[38;5;241m=\u001b[39mparser)\n\u001b[1;32m    789\u001b[0m     \u001b[38;5;28;01melse\u001b[39;00m:\n\u001b[1;32m    790\u001b[0m         \u001b[38;5;66;03m# try to parse the input in the simplest way\u001b[39;00m\n",
      "File \u001b[0;32m~/Documents/Developer/venv/lib/python3.12/site-packages/pandas/io/common.py:728\u001b[0m, in \u001b[0;36mget_handle\u001b[0;34m(path_or_buf, mode, encoding, compression, memory_map, is_text, errors, storage_options)\u001b[0m\n\u001b[1;32m    725\u001b[0m     codecs\u001b[38;5;241m.\u001b[39mlookup_error(errors)\n\u001b[1;32m    727\u001b[0m \u001b[38;5;66;03m# open URLs\u001b[39;00m\n\u001b[0;32m--> 728\u001b[0m ioargs \u001b[38;5;241m=\u001b[39m \u001b[43m_get_filepath_or_buffer\u001b[49m\u001b[43m(\u001b[49m\n\u001b[1;32m    729\u001b[0m \u001b[43m    \u001b[49m\u001b[43mpath_or_buf\u001b[49m\u001b[43m,\u001b[49m\n\u001b[1;32m    730\u001b[0m \u001b[43m    \u001b[49m\u001b[43mencoding\u001b[49m\u001b[38;5;241;43m=\u001b[39;49m\u001b[43mencoding\u001b[49m\u001b[43m,\u001b[49m\n\u001b[1;32m    731\u001b[0m \u001b[43m    \u001b[49m\u001b[43mcompression\u001b[49m\u001b[38;5;241;43m=\u001b[39;49m\u001b[43mcompression\u001b[49m\u001b[43m,\u001b[49m\n\u001b[1;32m    732\u001b[0m \u001b[43m    \u001b[49m\u001b[43mmode\u001b[49m\u001b[38;5;241;43m=\u001b[39;49m\u001b[43mmode\u001b[49m\u001b[43m,\u001b[49m\n\u001b[1;32m    733\u001b[0m \u001b[43m    \u001b[49m\u001b[43mstorage_options\u001b[49m\u001b[38;5;241;43m=\u001b[39;49m\u001b[43mstorage_options\u001b[49m\u001b[43m,\u001b[49m\n\u001b[1;32m    734\u001b[0m \u001b[43m\u001b[49m\u001b[43m)\u001b[49m\n\u001b[1;32m    736\u001b[0m handle \u001b[38;5;241m=\u001b[39m ioargs\u001b[38;5;241m.\u001b[39mfilepath_or_buffer\n\u001b[1;32m    737\u001b[0m handles: \u001b[38;5;28mlist\u001b[39m[BaseBuffer]\n",
      "File \u001b[0;32m~/Documents/Developer/venv/lib/python3.12/site-packages/pandas/io/common.py:384\u001b[0m, in \u001b[0;36m_get_filepath_or_buffer\u001b[0;34m(filepath_or_buffer, encoding, compression, mode, storage_options)\u001b[0m\n\u001b[1;32m    382\u001b[0m \u001b[38;5;66;03m# assuming storage_options is to be interpreted as headers\u001b[39;00m\n\u001b[1;32m    383\u001b[0m req_info \u001b[38;5;241m=\u001b[39m urllib\u001b[38;5;241m.\u001b[39mrequest\u001b[38;5;241m.\u001b[39mRequest(filepath_or_buffer, headers\u001b[38;5;241m=\u001b[39mstorage_options)\n\u001b[0;32m--> 384\u001b[0m \u001b[38;5;28;01mwith\u001b[39;00m \u001b[43murlopen\u001b[49m\u001b[43m(\u001b[49m\u001b[43mreq_info\u001b[49m\u001b[43m)\u001b[49m \u001b[38;5;28;01mas\u001b[39;00m req:\n\u001b[1;32m    385\u001b[0m     content_encoding \u001b[38;5;241m=\u001b[39m req\u001b[38;5;241m.\u001b[39mheaders\u001b[38;5;241m.\u001b[39mget(\u001b[38;5;124m\"\u001b[39m\u001b[38;5;124mContent-Encoding\u001b[39m\u001b[38;5;124m\"\u001b[39m, \u001b[38;5;28;01mNone\u001b[39;00m)\n\u001b[1;32m    386\u001b[0m     \u001b[38;5;28;01mif\u001b[39;00m content_encoding \u001b[38;5;241m==\u001b[39m \u001b[38;5;124m\"\u001b[39m\u001b[38;5;124mgzip\u001b[39m\u001b[38;5;124m\"\u001b[39m:\n\u001b[1;32m    387\u001b[0m         \u001b[38;5;66;03m# Override compression based on Content-Encoding header\u001b[39;00m\n",
      "File \u001b[0;32m~/Documents/Developer/venv/lib/python3.12/site-packages/pandas/io/common.py:289\u001b[0m, in \u001b[0;36murlopen\u001b[0;34m(*args, **kwargs)\u001b[0m\n\u001b[1;32m    283\u001b[0m \u001b[38;5;250m\u001b[39m\u001b[38;5;124;03m\"\"\"\u001b[39;00m\n\u001b[1;32m    284\u001b[0m \u001b[38;5;124;03mLazy-import wrapper for stdlib urlopen, as that imports a big chunk of\u001b[39;00m\n\u001b[1;32m    285\u001b[0m \u001b[38;5;124;03mthe stdlib.\u001b[39;00m\n\u001b[1;32m    286\u001b[0m \u001b[38;5;124;03m\"\"\"\u001b[39;00m\n\u001b[1;32m    287\u001b[0m \u001b[38;5;28;01mimport\u001b[39;00m \u001b[38;5;21;01murllib\u001b[39;00m\u001b[38;5;21;01m.\u001b[39;00m\u001b[38;5;21;01mrequest\u001b[39;00m\n\u001b[0;32m--> 289\u001b[0m \u001b[38;5;28;01mreturn\u001b[39;00m \u001b[43murllib\u001b[49m\u001b[38;5;241;43m.\u001b[39;49m\u001b[43mrequest\u001b[49m\u001b[38;5;241;43m.\u001b[39;49m\u001b[43murlopen\u001b[49m\u001b[43m(\u001b[49m\u001b[38;5;241;43m*\u001b[39;49m\u001b[43margs\u001b[49m\u001b[43m,\u001b[49m\u001b[43m \u001b[49m\u001b[38;5;241;43m*\u001b[39;49m\u001b[38;5;241;43m*\u001b[39;49m\u001b[43mkwargs\u001b[49m\u001b[43m)\u001b[49m\n",
      "File \u001b[0;32m/opt/homebrew/Cellar/python@3.12/3.12.7_1/Frameworks/Python.framework/Versions/3.12/lib/python3.12/urllib/request.py:215\u001b[0m, in \u001b[0;36murlopen\u001b[0;34m(url, data, timeout, cafile, capath, cadefault, context)\u001b[0m\n\u001b[1;32m    213\u001b[0m \u001b[38;5;28;01melse\u001b[39;00m:\n\u001b[1;32m    214\u001b[0m     opener \u001b[38;5;241m=\u001b[39m _opener\n\u001b[0;32m--> 215\u001b[0m \u001b[38;5;28;01mreturn\u001b[39;00m \u001b[43mopener\u001b[49m\u001b[38;5;241;43m.\u001b[39;49m\u001b[43mopen\u001b[49m\u001b[43m(\u001b[49m\u001b[43murl\u001b[49m\u001b[43m,\u001b[49m\u001b[43m \u001b[49m\u001b[43mdata\u001b[49m\u001b[43m,\u001b[49m\u001b[43m \u001b[49m\u001b[43mtimeout\u001b[49m\u001b[43m)\u001b[49m\n",
      "File \u001b[0;32m/opt/homebrew/Cellar/python@3.12/3.12.7_1/Frameworks/Python.framework/Versions/3.12/lib/python3.12/urllib/request.py:521\u001b[0m, in \u001b[0;36mOpenerDirector.open\u001b[0;34m(self, fullurl, data, timeout)\u001b[0m\n\u001b[1;32m    519\u001b[0m \u001b[38;5;28;01mfor\u001b[39;00m processor \u001b[38;5;129;01min\u001b[39;00m \u001b[38;5;28mself\u001b[39m\u001b[38;5;241m.\u001b[39mprocess_response\u001b[38;5;241m.\u001b[39mget(protocol, []):\n\u001b[1;32m    520\u001b[0m     meth \u001b[38;5;241m=\u001b[39m \u001b[38;5;28mgetattr\u001b[39m(processor, meth_name)\n\u001b[0;32m--> 521\u001b[0m     response \u001b[38;5;241m=\u001b[39m \u001b[43mmeth\u001b[49m\u001b[43m(\u001b[49m\u001b[43mreq\u001b[49m\u001b[43m,\u001b[49m\u001b[43m \u001b[49m\u001b[43mresponse\u001b[49m\u001b[43m)\u001b[49m\n\u001b[1;32m    523\u001b[0m \u001b[38;5;28;01mreturn\u001b[39;00m response\n",
      "File \u001b[0;32m/opt/homebrew/Cellar/python@3.12/3.12.7_1/Frameworks/Python.framework/Versions/3.12/lib/python3.12/urllib/request.py:630\u001b[0m, in \u001b[0;36mHTTPErrorProcessor.http_response\u001b[0;34m(self, request, response)\u001b[0m\n\u001b[1;32m    627\u001b[0m \u001b[38;5;66;03m# According to RFC 2616, \"2xx\" code indicates that the client's\u001b[39;00m\n\u001b[1;32m    628\u001b[0m \u001b[38;5;66;03m# request was successfully received, understood, and accepted.\u001b[39;00m\n\u001b[1;32m    629\u001b[0m \u001b[38;5;28;01mif\u001b[39;00m \u001b[38;5;129;01mnot\u001b[39;00m (\u001b[38;5;241m200\u001b[39m \u001b[38;5;241m<\u001b[39m\u001b[38;5;241m=\u001b[39m code \u001b[38;5;241m<\u001b[39m \u001b[38;5;241m300\u001b[39m):\n\u001b[0;32m--> 630\u001b[0m     response \u001b[38;5;241m=\u001b[39m \u001b[38;5;28;43mself\u001b[39;49m\u001b[38;5;241;43m.\u001b[39;49m\u001b[43mparent\u001b[49m\u001b[38;5;241;43m.\u001b[39;49m\u001b[43merror\u001b[49m\u001b[43m(\u001b[49m\n\u001b[1;32m    631\u001b[0m \u001b[43m        \u001b[49m\u001b[38;5;124;43m'\u001b[39;49m\u001b[38;5;124;43mhttp\u001b[39;49m\u001b[38;5;124;43m'\u001b[39;49m\u001b[43m,\u001b[49m\u001b[43m \u001b[49m\u001b[43mrequest\u001b[49m\u001b[43m,\u001b[49m\u001b[43m \u001b[49m\u001b[43mresponse\u001b[49m\u001b[43m,\u001b[49m\u001b[43m \u001b[49m\u001b[43mcode\u001b[49m\u001b[43m,\u001b[49m\u001b[43m \u001b[49m\u001b[43mmsg\u001b[49m\u001b[43m,\u001b[49m\u001b[43m \u001b[49m\u001b[43mhdrs\u001b[49m\u001b[43m)\u001b[49m\n\u001b[1;32m    633\u001b[0m \u001b[38;5;28;01mreturn\u001b[39;00m response\n",
      "File \u001b[0;32m/opt/homebrew/Cellar/python@3.12/3.12.7_1/Frameworks/Python.framework/Versions/3.12/lib/python3.12/urllib/request.py:559\u001b[0m, in \u001b[0;36mOpenerDirector.error\u001b[0;34m(self, proto, *args)\u001b[0m\n\u001b[1;32m    557\u001b[0m \u001b[38;5;28;01mif\u001b[39;00m http_err:\n\u001b[1;32m    558\u001b[0m     args \u001b[38;5;241m=\u001b[39m (\u001b[38;5;28mdict\u001b[39m, \u001b[38;5;124m'\u001b[39m\u001b[38;5;124mdefault\u001b[39m\u001b[38;5;124m'\u001b[39m, \u001b[38;5;124m'\u001b[39m\u001b[38;5;124mhttp_error_default\u001b[39m\u001b[38;5;124m'\u001b[39m) \u001b[38;5;241m+\u001b[39m orig_args\n\u001b[0;32m--> 559\u001b[0m     \u001b[38;5;28;01mreturn\u001b[39;00m \u001b[38;5;28;43mself\u001b[39;49m\u001b[38;5;241;43m.\u001b[39;49m\u001b[43m_call_chain\u001b[49m\u001b[43m(\u001b[49m\u001b[38;5;241;43m*\u001b[39;49m\u001b[43margs\u001b[49m\u001b[43m)\u001b[49m\n",
      "File \u001b[0;32m/opt/homebrew/Cellar/python@3.12/3.12.7_1/Frameworks/Python.framework/Versions/3.12/lib/python3.12/urllib/request.py:492\u001b[0m, in \u001b[0;36mOpenerDirector._call_chain\u001b[0;34m(self, chain, kind, meth_name, *args)\u001b[0m\n\u001b[1;32m    490\u001b[0m \u001b[38;5;28;01mfor\u001b[39;00m handler \u001b[38;5;129;01min\u001b[39;00m handlers:\n\u001b[1;32m    491\u001b[0m     func \u001b[38;5;241m=\u001b[39m \u001b[38;5;28mgetattr\u001b[39m(handler, meth_name)\n\u001b[0;32m--> 492\u001b[0m     result \u001b[38;5;241m=\u001b[39m \u001b[43mfunc\u001b[49m\u001b[43m(\u001b[49m\u001b[38;5;241;43m*\u001b[39;49m\u001b[43margs\u001b[49m\u001b[43m)\u001b[49m\n\u001b[1;32m    493\u001b[0m     \u001b[38;5;28;01mif\u001b[39;00m result \u001b[38;5;129;01mis\u001b[39;00m \u001b[38;5;129;01mnot\u001b[39;00m \u001b[38;5;28;01mNone\u001b[39;00m:\n\u001b[1;32m    494\u001b[0m         \u001b[38;5;28;01mreturn\u001b[39;00m result\n",
      "File \u001b[0;32m/opt/homebrew/Cellar/python@3.12/3.12.7_1/Frameworks/Python.framework/Versions/3.12/lib/python3.12/urllib/request.py:639\u001b[0m, in \u001b[0;36mHTTPDefaultErrorHandler.http_error_default\u001b[0;34m(self, req, fp, code, msg, hdrs)\u001b[0m\n\u001b[1;32m    638\u001b[0m \u001b[38;5;28;01mdef\u001b[39;00m \u001b[38;5;21mhttp_error_default\u001b[39m(\u001b[38;5;28mself\u001b[39m, req, fp, code, msg, hdrs):\n\u001b[0;32m--> 639\u001b[0m     \u001b[38;5;28;01mraise\u001b[39;00m HTTPError(req\u001b[38;5;241m.\u001b[39mfull_url, code, msg, hdrs, fp)\n",
      "\u001b[0;31mHTTPError\u001b[0m: HTTP Error 429: Too Many Requests"
     ]
    }
   ],
   "source": [
    "import re\n",
    "from bs4 import BeautifulSoup\n",
    "import numpy as np\n",
    "import pandas as pd\n",
    "import requests\n",
    "import urllib\n",
    "\n",
    "root = 'https://www.baseball-reference.com'\n",
    "webpage = urllib.parse.urljoin(root, 'postseason/world-series.shtml')\n",
    "\n",
    "n_previous_years = 20\n",
    "\n",
    "df = (\n",
    "    pd.read_html(webpage)[0]\n",
    "    .assign(\n",
    "        wins_al=lambda df: df['Wins'],\n",
    "        wins_nl=lambda df: df['Wins.1'],\n",
    "        ws_winner=lambda df: np.where(df.wins_al > df.wins_nl, df['AL Winner'], df['NL Winner']) \n",
    "    )\n",
    "    .drop(columns=['Wins', 'Wins.1'])\n",
    "    .loc[:119]\n",
    ")\n",
    "\n",
    "df\n",
    "\n",
    "# r = requests.get(webpage)\n",
    "# soup = BeautifulSoup(r.text)\n",
    "\n",
    "# al_team_rows = [t for t in soup.find_all('td', {'data-stat': 'al_winner'})]\n",
    "# nl_team_rows = [t for t in soup.find_all('td', {'data-stat': 'nl_winner'})]\n",
    "\n",
    "# def get_team_record(html_table_row):\n",
    "\n",
    "#     link = urllib.parse.urljoin(root, html_table_row.find('a')['href'])\n",
    "    \n",
    "#     r = requests.get(link)\n",
    "#     soup = BeautifulSoup(r.text)\n",
    "#     t = soup.find('div').text\n",
    "#     s = re.search(r'(?is)Record\\:.*(?P<wins>\\d+)-(?P<losses>\\d+)-(?P<ties>\\d+),', t)\n",
    "\n",
    "#     record = s.groupdict()\n",
    "#     record['team'] = html_table_row.text\n",
    "#     return record\n",
    "\n",
    "# al_records = pd.DataFrame(get_team_record(r) for r in al_team_rows[:n_previous_years])\n",
    "# nl_records = pd.DataFrame(get_team_record(r) for r in nl_team_rows[:n_previous_years])"
   ]
  },
  {
   "cell_type": "code",
   "execution_count": 66,
   "id": "b3679a25-4304-4c7a-ac5b-01f8309b5f68",
   "metadata": {},
   "outputs": [
    {
     "data": {
      "text/html": [
       "<div>\n",
       "<style scoped>\n",
       "    .dataframe tbody tr th:only-of-type {\n",
       "        vertical-align: middle;\n",
       "    }\n",
       "\n",
       "    .dataframe tbody tr th {\n",
       "        vertical-align: top;\n",
       "    }\n",
       "\n",
       "    .dataframe thead th {\n",
       "        text-align: right;\n",
       "    }\n",
       "</style>\n",
       "<table border=\"1\" class=\"dataframe\">\n",
       "  <thead>\n",
       "    <tr style=\"text-align: right;\">\n",
       "      <th></th>\n",
       "      <th>Year</th>\n",
       "      <th>AL Winner</th>\n",
       "      <th>NL Winner</th>\n",
       "      <th>Series MVP</th>\n",
       "      <th>wins_al</th>\n",
       "      <th>wins_nl</th>\n",
       "      <th>ws_winner</th>\n",
       "    </tr>\n",
       "  </thead>\n",
       "  <tbody>\n",
       "    <tr>\n",
       "      <th>0</th>\n",
       "      <td>2024</td>\n",
       "      <td>New York Yankees</td>\n",
       "      <td>Los Angeles Dodgers</td>\n",
       "      <td>Freddie Freeman</td>\n",
       "      <td>1</td>\n",
       "      <td>4</td>\n",
       "      <td>Los Angeles Dodgers</td>\n",
       "    </tr>\n",
       "    <tr>\n",
       "      <th>1</th>\n",
       "      <td>2023</td>\n",
       "      <td>Texas Rangers</td>\n",
       "      <td>Arizona Diamondbacks</td>\n",
       "      <td>Corey Seager</td>\n",
       "      <td>4</td>\n",
       "      <td>1</td>\n",
       "      <td>Texas Rangers</td>\n",
       "    </tr>\n",
       "    <tr>\n",
       "      <th>2</th>\n",
       "      <td>2022</td>\n",
       "      <td>Houston Astros</td>\n",
       "      <td>Philadelphia Phillies</td>\n",
       "      <td>Jeremy Peña</td>\n",
       "      <td>4</td>\n",
       "      <td>2</td>\n",
       "      <td>Houston Astros</td>\n",
       "    </tr>\n",
       "    <tr>\n",
       "      <th>3</th>\n",
       "      <td>2021</td>\n",
       "      <td>Houston Astros</td>\n",
       "      <td>Atlanta Braves</td>\n",
       "      <td>Jorge Soler</td>\n",
       "      <td>2</td>\n",
       "      <td>4</td>\n",
       "      <td>Atlanta Braves</td>\n",
       "    </tr>\n",
       "    <tr>\n",
       "      <th>4</th>\n",
       "      <td>2020</td>\n",
       "      <td>Tampa Bay Rays</td>\n",
       "      <td>Los Angeles Dodgers</td>\n",
       "      <td>Corey Seager</td>\n",
       "      <td>2</td>\n",
       "      <td>4</td>\n",
       "      <td>Los Angeles Dodgers</td>\n",
       "    </tr>\n",
       "    <tr>\n",
       "      <th>...</th>\n",
       "      <td>...</td>\n",
       "      <td>...</td>\n",
       "      <td>...</td>\n",
       "      <td>...</td>\n",
       "      <td>...</td>\n",
       "      <td>...</td>\n",
       "      <td>...</td>\n",
       "    </tr>\n",
       "    <tr>\n",
       "      <th>115</th>\n",
       "      <td>1909</td>\n",
       "      <td>Detroit Tigers</td>\n",
       "      <td>Pittsburgh Pirates</td>\n",
       "      <td>NaN</td>\n",
       "      <td>3</td>\n",
       "      <td>4</td>\n",
       "      <td>Pittsburgh Pirates</td>\n",
       "    </tr>\n",
       "    <tr>\n",
       "      <th>116</th>\n",
       "      <td>1908</td>\n",
       "      <td>Detroit Tigers</td>\n",
       "      <td>Chicago Cubs</td>\n",
       "      <td>NaN</td>\n",
       "      <td>1</td>\n",
       "      <td>4</td>\n",
       "      <td>Chicago Cubs</td>\n",
       "    </tr>\n",
       "    <tr>\n",
       "      <th>117</th>\n",
       "      <td>1907</td>\n",
       "      <td>Detroit Tigers</td>\n",
       "      <td>Chicago Cubs</td>\n",
       "      <td>NaN</td>\n",
       "      <td>0</td>\n",
       "      <td>4</td>\n",
       "      <td>Chicago Cubs</td>\n",
       "    </tr>\n",
       "    <tr>\n",
       "      <th>118</th>\n",
       "      <td>1906</td>\n",
       "      <td>Chicago White Sox</td>\n",
       "      <td>Chicago Cubs</td>\n",
       "      <td>NaN</td>\n",
       "      <td>4</td>\n",
       "      <td>2</td>\n",
       "      <td>Chicago White Sox</td>\n",
       "    </tr>\n",
       "    <tr>\n",
       "      <th>119</th>\n",
       "      <td>1905</td>\n",
       "      <td>Philadelphia Athletics</td>\n",
       "      <td>New York Giants</td>\n",
       "      <td>NaN</td>\n",
       "      <td>1</td>\n",
       "      <td>4</td>\n",
       "      <td>New York Giants</td>\n",
       "    </tr>\n",
       "  </tbody>\n",
       "</table>\n",
       "<p>120 rows × 7 columns</p>\n",
       "</div>"
      ],
      "text/plain": [
       "     Year               AL Winner              NL Winner       Series MVP  \\\n",
       "0    2024        New York Yankees    Los Angeles Dodgers  Freddie Freeman   \n",
       "1    2023           Texas Rangers   Arizona Diamondbacks     Corey Seager   \n",
       "2    2022          Houston Astros  Philadelphia Phillies      Jeremy Peña   \n",
       "3    2021          Houston Astros         Atlanta Braves      Jorge Soler   \n",
       "4    2020          Tampa Bay Rays    Los Angeles Dodgers     Corey Seager   \n",
       "..    ...                     ...                    ...              ...   \n",
       "115  1909          Detroit Tigers     Pittsburgh Pirates              NaN   \n",
       "116  1908          Detroit Tigers           Chicago Cubs              NaN   \n",
       "117  1907          Detroit Tigers           Chicago Cubs              NaN   \n",
       "118  1906       Chicago White Sox           Chicago Cubs              NaN   \n",
       "119  1905  Philadelphia Athletics        New York Giants              NaN   \n",
       "\n",
       "    wins_al wins_nl            ws_winner  \n",
       "0         1       4  Los Angeles Dodgers  \n",
       "1         4       1        Texas Rangers  \n",
       "2         4       2       Houston Astros  \n",
       "3         2       4       Atlanta Braves  \n",
       "4         2       4  Los Angeles Dodgers  \n",
       "..      ...     ...                  ...  \n",
       "115       3       4   Pittsburgh Pirates  \n",
       "116       1       4         Chicago Cubs  \n",
       "117       0       4         Chicago Cubs  \n",
       "118       4       2    Chicago White Sox  \n",
       "119       1       4      New York Giants  \n",
       "\n",
       "[120 rows x 7 columns]"
      ]
     },
     "execution_count": 66,
     "metadata": {},
     "output_type": "execute_result"
    }
   ],
   "source": [
    "df"
   ]
  }
 ],
 "metadata": {
  "kernelspec": {
   "display_name": "Python 3 (ipykernel)",
   "language": "python",
   "name": "python3"
  },
  "language_info": {
   "codemirror_mode": {
    "name": "ipython",
    "version": 3
   },
   "file_extension": ".py",
   "mimetype": "text/x-python",
   "name": "python",
   "nbconvert_exporter": "python",
   "pygments_lexer": "ipython3",
   "version": "3.12.7"
  }
 },
 "nbformat": 4,
 "nbformat_minor": 5
}
